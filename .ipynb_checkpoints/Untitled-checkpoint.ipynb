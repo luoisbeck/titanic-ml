{
 "cells": [
  {
   "cell_type": "code",
   "execution_count": 168,
   "metadata": {
    "collapsed": true
   },
   "outputs": [],
   "source": [
    "import pandas as pd\n",
    "import numpy as np\n",
    "from sklearn.svm import SVC\n",
    "from sklearn.model_selection import train_test_split\n",
    "from sklearn.preprocessing import MinMaxScaler\n",
    "from sklearn.preprocessing import LabelEncoder\n",
    "from sklearn.preprocessing import Imputer\n",
    "from sklearn.linear_model import LogisticRegression\n",
    "from sklearn.tree import DecisionTreeClassifier\n",
    "from random import randint\n",
    "import re"
   ]
  },
  {
   "cell_type": "code",
   "execution_count": 169,
   "metadata": {},
   "outputs": [
    {
     "name": "stdout",
     "output_type": "stream",
     "text": [
      "10692\n",
      "   PassengerId  Survived  Pclass  \\\n",
      "0            1         0       3   \n",
      "1            2         1       1   \n",
      "2            3         1       3   \n",
      "3            4         1       1   \n",
      "4            5         0       3   \n",
      "\n",
      "                                                Name     Sex   Age  SibSp  \\\n",
      "0                            Braund, Mr. Owen Harris    male  22.0      1   \n",
      "1  Cumings, Mrs. John Bradley (Florence Briggs Th...  female  38.0      1   \n",
      "2                             Heikkinen, Miss. Laina  female  26.0      0   \n",
      "3       Futrelle, Mrs. Jacques Heath (Lily May Peel)  female  35.0      1   \n",
      "4                           Allen, Mr. William Henry    male  35.0      0   \n",
      "\n",
      "   Parch            Ticket     Fare Cabin Embarked  \n",
      "0      0         A/5 21171   7.2500   NaN        S  \n",
      "1      0          PC 17599  71.2833   C85        C  \n",
      "2      0  STON/O2. 3101282   7.9250   NaN        S  \n",
      "3      0            113803  53.1000  C123        S  \n",
      "4      0            373450   8.0500   NaN        S  \n"
     ]
    }
   ],
   "source": [
    "hist_data = pd.read_csv('train.csv', sep=',')\n",
    "print(hist_data.size)\n",
    "print(hist_data.head(5))"
   ]
  },
  {
   "cell_type": "code",
   "execution_count": 170,
   "metadata": {
    "scrolled": true
   },
   "outputs": [
    {
     "name": "stdout",
     "output_type": "stream",
     "text": [
      "<class 'numpy.ndarray'>\n",
      "[['Mr']\n",
      " ['Mrs']\n",
      " ['Miss']\n",
      " ['Mrs']\n",
      " ['Mr']\n",
      " ['Mr']\n",
      " ['Mr']\n",
      " ['Master']\n",
      " ['Mrs']\n",
      " ['Mrs']]\n"
     ]
    }
   ],
   "source": [
    "passenger_titles = hist_data['Name'].values\n",
    "# names = names.reshape(-1,1)\n",
    "print(type(passenger_titles))\n",
    "regex = r', (.*)\\. '\n",
    "for name_index in range(0,len(passenger_titles)):\n",
    "    \n",
    "    # print(names[name_index])\n",
    "    passenger_titles[name_index] = re.search(regex, passenger_titles[name_index]).group(1)\n",
    "    \n",
    "passenger_titles = passenger_titles.reshape(-1,1)\n",
    "print(passenger_titles[0:10,:])"
   ]
  },
  {
   "cell_type": "code",
   "execution_count": 171,
   "metadata": {
    "scrolled": true
   },
   "outputs": [
    {
     "name": "stdout",
     "output_type": "stream",
     "text": [
      "(891, 6)\n",
      "(891, 1)\n",
      "   Pclass     Sex   Age  SibSp  Parch     Fare\n",
      "0       3    male  22.0      1      0   7.2500\n",
      "1       1  female  38.0      1      0  71.2833\n",
      "     Pclass     Sex   Age  SibSp  Parch      Fare\n",
      "0         3    male  22.0      1      0    7.2500\n",
      "1         1  female  38.0      1      0   71.2833\n",
      "2         3  female  26.0      0      0    7.9250\n",
      "3         1  female  35.0      1      0   53.1000\n",
      "4         3    male  35.0      0      0    8.0500\n",
      "5         3    male   NaN      0      0    8.4583\n",
      "6         1    male  54.0      0      0   51.8625\n",
      "7         3    male   2.0      3      1   21.0750\n",
      "8         3  female  27.0      0      2   11.1333\n",
      "9         2  female  14.0      1      0   30.0708\n",
      "10        3  female   4.0      1      1   16.7000\n",
      "11        1  female  58.0      0      0   26.5500\n",
      "12        3    male  20.0      0      0    8.0500\n",
      "13        3    male  39.0      1      5   31.2750\n",
      "14        3  female  14.0      0      0    7.8542\n",
      "15        2  female  55.0      0      0   16.0000\n",
      "16        3    male   2.0      4      1   29.1250\n",
      "17        2    male   NaN      0      0   13.0000\n",
      "18        3  female  31.0      1      0   18.0000\n",
      "19        3  female   NaN      0      0    7.2250\n",
      "20        2    male  35.0      0      0   26.0000\n",
      "21        2    male  34.0      0      0   13.0000\n",
      "22        3  female  15.0      0      0    8.0292\n",
      "23        1    male  28.0      0      0   35.5000\n",
      "24        3  female   8.0      3      1   21.0750\n",
      "25        3  female  38.0      1      5   31.3875\n",
      "26        3    male   NaN      0      0    7.2250\n",
      "27        1    male  19.0      3      2  263.0000\n",
      "28        3  female   NaN      0      0    7.8792\n",
      "29        3    male   NaN      0      0    7.8958\n",
      "..      ...     ...   ...    ...    ...       ...\n",
      "861       2    male  21.0      1      0   11.5000\n",
      "862       1  female  48.0      0      0   25.9292\n",
      "863       3  female   NaN      8      2   69.5500\n",
      "864       2    male  24.0      0      0   13.0000\n",
      "865       2  female  42.0      0      0   13.0000\n",
      "866       2  female  27.0      1      0   13.8583\n",
      "867       1    male  31.0      0      0   50.4958\n",
      "868       3    male   NaN      0      0    9.5000\n",
      "869       3    male   4.0      1      1   11.1333\n",
      "870       3    male  26.0      0      0    7.8958\n",
      "871       1  female  47.0      1      1   52.5542\n",
      "872       1    male  33.0      0      0    5.0000\n",
      "873       3    male  47.0      0      0    9.0000\n",
      "874       2  female  28.0      1      0   24.0000\n",
      "875       3  female  15.0      0      0    7.2250\n",
      "876       3    male  20.0      0      0    9.8458\n",
      "877       3    male  19.0      0      0    7.8958\n",
      "878       3    male   NaN      0      0    7.8958\n",
      "879       1  female  56.0      0      1   83.1583\n",
      "880       2  female  25.0      0      1   26.0000\n",
      "881       3    male  33.0      0      0    7.8958\n",
      "882       3  female  22.0      0      0   10.5167\n",
      "883       2    male  28.0      0      0   10.5000\n",
      "884       3    male  25.0      0      0    7.0500\n",
      "885       3  female  39.0      0      5   29.1250\n",
      "886       2    male  27.0      0      0   13.0000\n",
      "887       1  female  19.0      0      0   30.0000\n",
      "888       3  female   NaN      1      2   23.4500\n",
      "889       1    male  26.0      0      0   30.0000\n",
      "890       3    male  32.0      0      0    7.7500\n",
      "\n",
      "[891 rows x 6 columns]\n"
     ]
    }
   ],
   "source": [
    "X_data = hist_data.drop(hist_data.columns[[0,1,3,8,10,11]], axis=1)\n",
    "Y_data = hist_data['Survived'].values\n",
    "print(X_data.shape)\n",
    "Y_data = Y_data.reshape(-1,1)\n",
    "print(Y_data.shape)\n",
    "print(X_data.head(2))\n",
    "print(X_data)"
   ]
  },
  {
   "cell_type": "code",
   "execution_count": 172,
   "metadata": {
    "scrolled": true
   },
   "outputs": [
    {
     "name": "stdout",
     "output_type": "stream",
     "text": [
      "          0  Pclass     Sex   Age  SibSp  Parch      Fare\n",
      "0        Mr       3    male  22.0      1      0    7.2500\n",
      "1       Mrs       1  female  38.0      1      0   71.2833\n",
      "2      Miss       3  female  26.0      0      0    7.9250\n",
      "3       Mrs       1  female  35.0      1      0   53.1000\n",
      "4        Mr       3    male  35.0      0      0    8.0500\n",
      "5        Mr       3    male   NaN      0      0    8.4583\n",
      "6        Mr       1    male  54.0      0      0   51.8625\n",
      "7    Master       3    male   2.0      3      1   21.0750\n",
      "8       Mrs       3  female  27.0      0      2   11.1333\n",
      "9       Mrs       2  female  14.0      1      0   30.0708\n",
      "10     Miss       3  female   4.0      1      1   16.7000\n",
      "11     Miss       1  female  58.0      0      0   26.5500\n",
      "12       Mr       3    male  20.0      0      0    8.0500\n",
      "13       Mr       3    male  39.0      1      5   31.2750\n",
      "14     Miss       3  female  14.0      0      0    7.8542\n",
      "15      Mrs       2  female  55.0      0      0   16.0000\n",
      "16   Master       3    male   2.0      4      1   29.1250\n",
      "17       Mr       2    male   NaN      0      0   13.0000\n",
      "18      Mrs       3  female  31.0      1      0   18.0000\n",
      "19      Mrs       3  female   NaN      0      0    7.2250\n",
      "20       Mr       2    male  35.0      0      0   26.0000\n",
      "21       Mr       2    male  34.0      0      0   13.0000\n",
      "22     Miss       3  female  15.0      0      0    8.0292\n",
      "23       Mr       1    male  28.0      0      0   35.5000\n",
      "24     Miss       3  female   8.0      3      1   21.0750\n",
      "25      Mrs       3  female  38.0      1      5   31.3875\n",
      "26       Mr       3    male   NaN      0      0    7.2250\n",
      "27       Mr       1    male  19.0      3      2  263.0000\n",
      "28     Miss       3  female   NaN      0      0    7.8792\n",
      "29       Mr       3    male   NaN      0      0    7.8958\n",
      "..      ...     ...     ...   ...    ...    ...       ...\n",
      "861      Mr       2    male  21.0      1      0   11.5000\n",
      "862     Mrs       1  female  48.0      0      0   25.9292\n",
      "863    Miss       3  female   NaN      8      2   69.5500\n",
      "864      Mr       2    male  24.0      0      0   13.0000\n",
      "865     Mrs       2  female  42.0      0      0   13.0000\n",
      "866    Miss       2  female  27.0      1      0   13.8583\n",
      "867      Mr       1    male  31.0      0      0   50.4958\n",
      "868      Mr       3    male   NaN      0      0    9.5000\n",
      "869  Master       3    male   4.0      1      1   11.1333\n",
      "870      Mr       3    male  26.0      0      0    7.8958\n",
      "871     Mrs       1  female  47.0      1      1   52.5542\n",
      "872      Mr       1    male  33.0      0      0    5.0000\n",
      "873      Mr       3    male  47.0      0      0    9.0000\n",
      "874     Mrs       2  female  28.0      1      0   24.0000\n",
      "875    Miss       3  female  15.0      0      0    7.2250\n",
      "876      Mr       3    male  20.0      0      0    9.8458\n",
      "877      Mr       3    male  19.0      0      0    7.8958\n",
      "878      Mr       3    male   NaN      0      0    7.8958\n",
      "879     Mrs       1  female  56.0      0      1   83.1583\n",
      "880     Mrs       2  female  25.0      0      1   26.0000\n",
      "881      Mr       3    male  33.0      0      0    7.8958\n",
      "882    Miss       3  female  22.0      0      0   10.5167\n",
      "883      Mr       2    male  28.0      0      0   10.5000\n",
      "884      Mr       3    male  25.0      0      0    7.0500\n",
      "885     Mrs       3  female  39.0      0      5   29.1250\n",
      "886     Rev       2    male  27.0      0      0   13.0000\n",
      "887    Miss       1  female  19.0      0      0   30.0000\n",
      "888    Miss       3  female   NaN      1      2   23.4500\n",
      "889      Mr       1    male  26.0      0      0   30.0000\n",
      "890      Mr       3    male  32.0      0      0    7.7500\n",
      "\n",
      "[891 rows x 7 columns]\n",
      "<class 'numpy.ndarray'>\n",
      "[[ 11.       3.       1.     ...,   1.       0.       7.25  ]\n",
      " [ 12.       1.       0.     ...,   1.       0.      71.2833]\n",
      " [  8.       3.       0.     ...,   0.       0.       7.925 ]\n",
      " ..., \n",
      " [  8.       3.       0.     ...,   1.       2.      23.45  ]\n",
      " [ 11.       1.       1.     ...,   0.       0.      30.    ]\n",
      " [ 11.       3.       1.     ...,   0.       0.       7.75  ]]\n"
     ]
    }
   ],
   "source": [
    "passenger_titles = pd.DataFrame(passenger_titles)\n",
    "# X_data = pd.DataFrame(X_data)\n",
    "X_data = pd.concat([passenger_titles, X_data], axis=1)\n",
    "print(X_data)\n",
    "\n",
    "le = LabelEncoder()\n",
    "for col in X_data.columns.values:\n",
    "    if X_data[col].dtypes=='object':\n",
    "        le.fit(X_data[col].values)\n",
    "        X_data[col] = le.transform(X_data[col])\n",
    "        \n",
    "X_data = X_data.values\n",
    "print(type(X_data))\n",
    "my_imputer = Imputer()\n",
    "X_data = my_imputer.fit_transform(X_data)\n",
    "print(X_data)"
   ]
  },
  {
   "cell_type": "code",
   "execution_count": 173,
   "metadata": {
    "collapsed": true
   },
   "outputs": [],
   "source": [
    "rand_state_seed = randint(0,100)\n",
    "# scaler = MinMaxScaler()\n",
    "# X_data = scaler.fit_transform(X_data)\n",
    "X_train, X_test, Y_train, Y_test = train_test_split(X_data, Y_data, test_size=0.7, random_state=rand_state_seed)"
   ]
  },
  {
   "cell_type": "code",
   "execution_count": 174,
   "metadata": {},
   "outputs": [
    {
     "name": "stdout",
     "output_type": "stream",
     "text": [
      "State: 14Kernel: rbf - C: 0.1 - Score: 0.597756410256\n",
      "State: 14Kernel: linear - C: 0.1 - Score: 0.785256410256\n",
      "State: 14Kernel: sigmoid - C: 0.1 - Score: 0.597756410256\n",
      "State: 14Kernel: rbf - C: 1.0 - Score: 0.634615384615\n"
     ]
    },
    {
     "name": "stderr",
     "output_type": "stream",
     "text": [
      "/Users/lpgoncalo/anaconda/lib/python3.6/site-packages/sklearn/utils/validation.py:526: DataConversionWarning: A column-vector y was passed when a 1d array was expected. Please change the shape of y to (n_samples, ), for example using ravel().\n",
      "  y = column_or_1d(y, warn=True)\n"
     ]
    },
    {
     "name": "stdout",
     "output_type": "stream",
     "text": [
      "State: 14Kernel: linear - C: 1.0 - Score: 0.802884615385\n",
      "State: 14Kernel: sigmoid - C: 1.0 - Score: 0.597756410256\n",
      "State: 14Kernel: rbf - C: 10.0 - Score: 0.649038461538\n",
      "State: 14Kernel: linear - C: 10.0 - Score: 0.804487179487\n",
      "State: 14Kernel: sigmoid - C: 10.0 - Score: 0.597756410256\n",
      "State: 14Kernel: rbf - C: 20.0 - Score: 0.644230769231\n",
      "State: 14Kernel: linear - C: 20.0 - Score: 0.804487179487\n",
      "State: 14Kernel: sigmoid - C: 20.0 - Score: 0.597756410256\n"
     ]
    }
   ],
   "source": [
    "# SVM\n",
    "kernel_type = ['rbf', 'linear', 'sigmoid']\n",
    "C = [0.1,1.,10.,20.]\n",
    "for c_value in C: \n",
    "    for kern in kernel_type:\n",
    "        clf = SVC(kernel=kern, C=c_value)  # , degree=int(degree_value))\n",
    "        clf.fit(X_train, Y_train)\n",
    "        print(\"State: \" + str(rand_state_seed) + 'Kernel: ' + kern + \" - C: \" + str(c_value) + \" - Score: \" + str(clf.score(X_test, Y_test)))\n",
    "        # print(\"Prediction: \" + str(clf.predict(predict_me)))"
   ]
  },
  {
   "cell_type": "code",
   "execution_count": 175,
   "metadata": {},
   "outputs": [
    {
     "name": "stdout",
     "output_type": "stream",
     "text": [
      "State: 14 - C: 0.1 - Score: 0.746794871795\n"
     ]
    },
    {
     "name": "stderr",
     "output_type": "stream",
     "text": [
      "/Users/lpgoncalo/anaconda/lib/python3.6/site-packages/sklearn/utils/validation.py:526: DataConversionWarning: A column-vector y was passed when a 1d array was expected. Please change the shape of y to (n_samples, ), for example using ravel().\n",
      "  y = column_or_1d(y, warn=True)\n"
     ]
    }
   ],
   "source": [
    "# Logistical Regression\n",
    "clf = LogisticRegression(C=0.1)  # , degree=int(degree_value))\n",
    "clf.fit(X_train, Y_train)\n",
    "print(\"State: \" + str(rand_state_seed) + \" - C: \" + str(0.1) + \" - Score: \" + str(clf.score(X_test, Y_test)))\n",
    "# print(\"Prediction: \" + str(clf.predict(predict_me)))"
   ]
  },
  {
   "cell_type": "code",
   "execution_count": 176,
   "metadata": {},
   "outputs": [
    {
     "name": "stdout",
     "output_type": "stream",
     "text": [
      "State: 14 - Score: 0.724358974359\n"
     ]
    }
   ],
   "source": [
    "# DecisionTrees\n",
    "clf = DecisionTreeClassifier()  # , degree=int(degree_value))\n",
    "clf.fit(X_train, Y_train)\n",
    "print(\"State: \" + str(rand_state_seed) + \" - Score: \" + str(clf.score(X_test, Y_test)))\n",
    "# print(\"Prediction: \" + str(clf.predict(predict_me)))"
   ]
  }
 ],
 "metadata": {
  "kernelspec": {
   "display_name": "Python 3",
   "language": "python",
   "name": "python3"
  },
  "language_info": {
   "codemirror_mode": {
    "name": "ipython",
    "version": 3
   },
   "file_extension": ".py",
   "mimetype": "text/x-python",
   "name": "python",
   "nbconvert_exporter": "python",
   "pygments_lexer": "ipython3",
   "version": "3.6.2"
  }
 },
 "nbformat": 4,
 "nbformat_minor": 2
}
