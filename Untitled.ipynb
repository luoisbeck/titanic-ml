{
 "cells": [
  {
   "cell_type": "code",
   "execution_count": 1,
   "metadata": {},
   "outputs": [],
   "source": [
    "import pandas as pd\n",
    "import numpy as np\n",
    "from sklearn.svm import SVC\n",
    "from sklearn.model_selection import train_test_split\n",
    "from sklearn.preprocessing import MinMaxScaler\n",
    "from sklearn.preprocessing import LabelEncoder\n",
    "from sklearn.preprocessing import Imputer\n",
    "from sklearn.linear_model import LogisticRegression\n",
    "from sklearn.tree import DecisionTreeClassifier\n",
    "from random import randint"
   ]
  },
  {
   "cell_type": "code",
   "execution_count": 2,
   "metadata": {},
   "outputs": [
    {
     "name": "stdout",
     "output_type": "stream",
     "text": [
      "10692\n",
      "   PassengerId  Survived  Pclass  \\\n",
      "0            1         0       3   \n",
      "1            2         1       1   \n",
      "2            3         1       3   \n",
      "3            4         1       1   \n",
      "4            5         0       3   \n",
      "\n",
      "                                                Name     Sex   Age  SibSp  \\\n",
      "0                            Braund, Mr. Owen Harris    male  22.0      1   \n",
      "1  Cumings, Mrs. John Bradley (Florence Briggs Th...  female  38.0      1   \n",
      "2                             Heikkinen, Miss. Laina  female  26.0      0   \n",
      "3       Futrelle, Mrs. Jacques Heath (Lily May Peel)  female  35.0      1   \n",
      "4                           Allen, Mr. William Henry    male  35.0      0   \n",
      "\n",
      "   Parch            Ticket     Fare Cabin Embarked  \n",
      "0      0         A/5 21171   7.2500   NaN        S  \n",
      "1      0          PC 17599  71.2833   C85        C  \n",
      "2      0  STON/O2. 3101282   7.9250   NaN        S  \n",
      "3      0            113803  53.1000  C123        S  \n",
      "4      0            373450   8.0500   NaN        S  \n"
     ]
    }
   ],
   "source": [
    "hist_data = pd.read_csv('train.csv', sep=',')\n",
    "print(hist_data.size)\n",
    "print(hist_data.head(5))"
   ]
  },
  {
   "cell_type": "code",
   "execution_count": 3,
   "metadata": {},
   "outputs": [
    {
     "name": "stdout",
     "output_type": "stream",
     "text": [
      "(891, 7)\n",
      "(891, 1)\n",
      "   PassengerId  Pclass     Sex   Age  SibSp  Parch     Fare\n",
      "0            1       3    male  22.0      1      0   7.2500\n",
      "1            2       1  female  38.0      1      0  71.2833\n"
     ]
    }
   ],
   "source": [
    "X_data = hist_data.drop(hist_data.columns[[1,3,8,10,11]], axis=1)\n",
    "Y_data = hist_data['Survived'].values\n",
    "print(X_data.shape)\n",
    "Y_data = Y_data.reshape(-1,1)\n",
    "print(Y_data.shape)\n",
    "print(X_data.head(2))"
   ]
  },
  {
   "cell_type": "code",
   "execution_count": 4,
   "metadata": {},
   "outputs": [
    {
     "name": "stdout",
     "output_type": "stream",
     "text": [
      "<class 'numpy.ndarray'>\n",
      "[[   1.        3.        1.     ...,    1.        0.        7.25  ]\n",
      " [   2.        1.        0.     ...,    1.        0.       71.2833]\n",
      " [   3.        3.        0.     ...,    0.        0.        7.925 ]\n",
      " ..., \n",
      " [ 889.        3.        0.     ...,    1.        2.       23.45  ]\n",
      " [ 890.        1.        1.     ...,    0.        0.       30.    ]\n",
      " [ 891.        3.        1.     ...,    0.        0.        7.75  ]]\n"
     ]
    }
   ],
   "source": [
    "le = LabelEncoder()\n",
    "for col in X_data.columns.values:\n",
    "    if X_data[col].dtypes=='object':\n",
    "        le.fit(X_data[col].values)\n",
    "        X_data[col] = le.transform(X_data[col])\n",
    "\n",
    "X_data = X_data.values\n",
    "print(type(X_data))\n",
    "my_imputer = Imputer()\n",
    "X_data = my_imputer.fit_transform(X_data)\n",
    "print(X_data)"
   ]
  },
  {
   "cell_type": "code",
   "execution_count": 5,
   "metadata": {
    "collapsed": true
   },
   "outputs": [],
   "source": [
    "rand_state_seed = randint(0,100)\n",
    "# scaler = MinMaxScaler()\n",
    "# X_data = scaler.fit_transform(X_data)\n",
    "X_train, X_test, Y_train, Y_test = train_test_split(X_data, Y_data, test_size=0.7, random_state=rand_state_seed)"
   ]
  },
  {
   "cell_type": "code",
   "execution_count": 6,
   "metadata": {},
   "outputs": [
    {
     "name": "stdout",
     "output_type": "stream",
     "text": [
      "State: 59Kernel: rbf - C: 0.1 - Score: 0.599358974359\n"
     ]
    },
    {
     "name": "stderr",
     "output_type": "stream",
     "text": [
      "C:\\Users\\Johny\\AppData\\Local\\Continuum\\Anaconda3\\lib\\site-packages\\sklearn\\utils\\validation.py:547: DataConversionWarning: A column-vector y was passed when a 1d array was expected. Please change the shape of y to (n_samples, ), for example using ravel().\n",
      "  y = column_or_1d(y, warn=True)\n"
     ]
    },
    {
     "name": "stdout",
     "output_type": "stream",
     "text": [
      "State: 59Kernel: linear - C: 0.1 - Score: 0.791666666667\n",
      "State: 59Kernel: sigmoid - C: 0.1 - Score: 0.599358974359\n"
     ]
    }
   ],
   "source": [
    "# SVM\n",
    "kernel_type = ['rbf', 'linear', 'sigmoid']\n",
    "for kern in kernel_type:\n",
    "    clf = SVC(kernel=kern, C=0.1)  # , degree=int(degree_value))\n",
    "    clf.fit(X_train, Y_train)\n",
    "    print(\"State: \" + str(rand_state_seed) + 'Kernel: ' + kern + \" - C: \" + str(0.1) + \" - Score: \" + str(clf.score(X_test, Y_test)))\n",
    "    # print(\"Prediction: \" + str(clf.predict(predict_me)))"
   ]
  },
  {
   "cell_type": "code",
   "execution_count": 7,
   "metadata": {},
   "outputs": [
    {
     "name": "stdout",
     "output_type": "stream",
     "text": [
      "State: 59 - C: 0.1 - Score: 0.719551282051\n"
     ]
    },
    {
     "name": "stderr",
     "output_type": "stream",
     "text": [
      "C:\\Users\\Johny\\AppData\\Local\\Continuum\\Anaconda3\\lib\\site-packages\\sklearn\\utils\\validation.py:547: DataConversionWarning: A column-vector y was passed when a 1d array was expected. Please change the shape of y to (n_samples, ), for example using ravel().\n",
      "  y = column_or_1d(y, warn=True)\n"
     ]
    }
   ],
   "source": [
    "# Logistical Regression\n",
    "clf = LogisticRegression(C=0.1)  # , degree=int(degree_value))\n",
    "clf.fit(X_train, Y_train)\n",
    "print(\"State: \" + str(rand_state_seed) + \" - C: \" + str(0.1) + \" - Score: \" + str(clf.score(X_test, Y_test)))\n",
    "# print(\"Prediction: \" + str(clf.predict(predict_me)))"
   ]
  },
  {
   "cell_type": "code",
   "execution_count": 8,
   "metadata": {},
   "outputs": [
    {
     "name": "stdout",
     "output_type": "stream",
     "text": [
      "State: 59 - Score: 0.758012820513\n"
     ]
    }
   ],
   "source": [
    "# DecisionTrees\n",
    "clf = DecisionTreeClassifier()  # , degree=int(degree_value))\n",
    "clf.fit(X_train, Y_train)\n",
    "print(\"State: \" + str(rand_state_seed) + \" - Score: \" + str(clf.score(X_test, Y_test)))\n",
    "# print(\"Prediction: \" + str(clf.predict(predict_me)))"
   ]
  }
 ],
 "metadata": {
  "kernelspec": {
   "display_name": "Python 3",
   "language": "python",
   "name": "python3"
  },
  "language_info": {
   "codemirror_mode": {
    "name": "ipython",
    "version": 3
   },
   "file_extension": ".py",
   "mimetype": "text/x-python",
   "name": "python",
   "nbconvert_exporter": "python",
   "pygments_lexer": "ipython3",
   "version": "3.6.1"
  }
 },
 "nbformat": 4,
 "nbformat_minor": 2
}
